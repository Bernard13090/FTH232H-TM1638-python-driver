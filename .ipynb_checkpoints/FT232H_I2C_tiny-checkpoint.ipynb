{
 "cells": [
  {
   "cell_type": "code",
   "execution_count": 24,
   "id": "f5e563ac-83d7-422e-a403-892ee898c831",
   "metadata": {},
   "outputs": [
    {
     "name": "stdout",
     "output_type": "stream",
     "text": [
      "0x42\n",
      "bytearray(b'Bernard')\n",
      "Bernard\n"
     ]
    },
    {
     "data": {
      "text/plain": [
       "'0x43'"
      ]
     },
     "execution_count": 24,
     "metadata": {},
     "output_type": "execute_result"
    }
   ],
   "source": [
    "import board\n",
    "import busio\n",
    "i2c = busio.I2C(board.SCL, board.SDA,  frequency = 20000)\n",
    "from adafruit_bus_device.i2c_device import I2CDevice\n",
    "device = I2CDevice(i2c, 0x43)\n",
    "with device:\n",
    "    device.write(bytes([0x00]))\n",
    "    result = bytearray(7)\n",
    "    device.readinto(result)\n",
    "    #i2c.readfrom_into(0x42, result)\n",
    "    print(hex(result[0]))\n",
    "    print(result)\n",
    "    byte_string = result\n",
    "    ascii_string = byte_string.decode(\"ASCII\")  \n",
    "    print(ascii_string)  \n",
    "    \n",
    "hex(i2c.scan()[0])"
   ]
  },
  {
   "cell_type": "code",
   "execution_count": null,
   "id": "197d3b83-a381-4e64-8625-e59f15e429da",
   "metadata": {},
   "outputs": [],
   "source": [
    "from pyftdi.ftdi import Ftdi\n",
    "Ftdi.show_devices()"
   ]
  },
  {
   "cell_type": "code",
   "execution_count": null,
   "id": "dd38b1eb-06d8-467a-b9db-e837fec17712",
   "metadata": {},
   "outputs": [],
   "source": [
    "import os\n",
    "print(os.environ[\"BLINKA_FT232H\"])"
   ]
  },
  {
   "cell_type": "code",
   "execution_count": 26,
   "id": "c8302e4e-da48-49a5-9e3f-78e2de9900a7",
   "metadata": {},
   "outputs": [
    {
     "data": {
      "text/plain": [
       "[67, 80, 81]"
      ]
     },
     "execution_count": 26,
     "metadata": {},
     "output_type": "execute_result"
    }
   ],
   "source": [
    "import board\n",
    "import busio\n",
    "i2c = busio.I2C(board.SCL, board.SDA,  frequency = 50000)\n",
    "i2c.scan()"
   ]
  },
  {
   "cell_type": "code",
   "execution_count": 29,
   "id": "f6aefe77-f278-4eef-99f7-4d45a6f66faf",
   "metadata": {},
   "outputs": [
    {
     "ename": "ValueError",
     "evalue": "No I2C device at address: 0x81",
     "output_type": "error",
     "traceback": [
      "\u001b[1;31m---------------------------------------------------------------------------\u001b[0m",
      "\u001b[1;31mI2cIOError\u001b[0m                                Traceback (most recent call last)",
      "File \u001b[1;32mC:\\Program Files\\Python312\\Lib\\site-packages\\adafruit_bus_device\\i2c_device.py:175\u001b[0m, in \u001b[0;36mI2CDevice.__probe_for_device\u001b[1;34m(self)\u001b[0m\n\u001b[0;32m    174\u001b[0m \u001b[38;5;28;01mtry\u001b[39;00m:\n\u001b[1;32m--> 175\u001b[0m     \u001b[38;5;28;43mself\u001b[39;49m\u001b[38;5;241;43m.\u001b[39;49m\u001b[43mi2c\u001b[49m\u001b[38;5;241;43m.\u001b[39;49m\u001b[43mwriteto\u001b[49m\u001b[43m(\u001b[49m\u001b[38;5;28;43mself\u001b[39;49m\u001b[38;5;241;43m.\u001b[39;49m\u001b[43mdevice_address\u001b[49m\u001b[43m,\u001b[49m\u001b[43m \u001b[49m\u001b[38;5;124;43mb\u001b[39;49m\u001b[38;5;124;43m\"\u001b[39;49m\u001b[38;5;124;43m\"\u001b[39;49m\u001b[43m)\u001b[49m\n\u001b[0;32m    176\u001b[0m \u001b[38;5;28;01mexcept\u001b[39;00m \u001b[38;5;167;01mOSError\u001b[39;00m:\n\u001b[0;32m    177\u001b[0m     \u001b[38;5;66;03m# some OS's dont like writing an empty bytesting...\u001b[39;00m\n\u001b[0;32m    178\u001b[0m     \u001b[38;5;66;03m# Retry by reading a byte\u001b[39;00m\n",
      "File \u001b[1;32mC:\\Program Files\\Python312\\Lib\\site-packages\\busio.py:215\u001b[0m, in \u001b[0;36mI2C.writeto\u001b[1;34m(self, address, buffer, start, end)\u001b[0m\n\u001b[0;32m    214\u001b[0m     \u001b[38;5;28;01mreturn\u001b[39;00m \u001b[38;5;28mself\u001b[39m\u001b[38;5;241m.\u001b[39m_i2c\u001b[38;5;241m.\u001b[39mwriteto(address, \u001b[38;5;28mmemoryview\u001b[39m(buffer)[start:end], stop\u001b[38;5;241m=\u001b[39m\u001b[38;5;28;01mTrue\u001b[39;00m)\n\u001b[1;32m--> 215\u001b[0m \u001b[38;5;28;01mreturn\u001b[39;00m \u001b[38;5;28;43mself\u001b[39;49m\u001b[38;5;241;43m.\u001b[39;49m\u001b[43m_i2c\u001b[49m\u001b[38;5;241;43m.\u001b[39;49m\u001b[43mwriteto\u001b[49m\u001b[43m(\u001b[49m\u001b[43maddress\u001b[49m\u001b[43m,\u001b[49m\u001b[43m \u001b[49m\u001b[43mbuffer\u001b[49m\u001b[43m,\u001b[49m\u001b[43m \u001b[49m\u001b[43mstop\u001b[49m\u001b[38;5;241;43m=\u001b[39;49m\u001b[38;5;28;43;01mTrue\u001b[39;49;00m\u001b[43m)\u001b[49m\n",
      "File \u001b[1;32mC:\\Program Files\\Python312\\Lib\\site-packages\\adafruit_blinka\\microcontroller\\ftdi_mpsse\\mpsse\\i2c.py:45\u001b[0m, in \u001b[0;36mI2C.writeto\u001b[1;34m(self, address, buffer, start, end, stop)\u001b[0m\n\u001b[0;32m     44\u001b[0m end \u001b[38;5;241m=\u001b[39m end \u001b[38;5;28;01mif\u001b[39;00m end \u001b[38;5;28;01melse\u001b[39;00m \u001b[38;5;28mlen\u001b[39m(buffer)\n\u001b[1;32m---> 45\u001b[0m port \u001b[38;5;241m=\u001b[39m \u001b[38;5;28;43mself\u001b[39;49m\u001b[38;5;241;43m.\u001b[39;49m\u001b[43m_i2c\u001b[49m\u001b[38;5;241;43m.\u001b[39;49m\u001b[43mget_port\u001b[49m\u001b[43m(\u001b[49m\u001b[43maddress\u001b[49m\u001b[43m)\u001b[49m\n\u001b[0;32m     46\u001b[0m port\u001b[38;5;241m.\u001b[39mwrite(buffer[start:end], relax\u001b[38;5;241m=\u001b[39mstop)\n",
      "File \u001b[1;32mC:\\Program Files\\Python312\\Lib\\site-packages\\pyftdi\\i2c.py:551\u001b[0m, in \u001b[0;36mI2cController.get_port\u001b[1;34m(self, address)\u001b[0m\n\u001b[0;32m    550\u001b[0m     \u001b[38;5;28;01mraise\u001b[39;00m I2cIOError(\u001b[38;5;124m\"\u001b[39m\u001b[38;5;124mFTDI controller not initialized\u001b[39m\u001b[38;5;124m\"\u001b[39m)\n\u001b[1;32m--> 551\u001b[0m \u001b[38;5;28;43mself\u001b[39;49m\u001b[38;5;241;43m.\u001b[39;49m\u001b[43mvalidate_address\u001b[49m\u001b[43m(\u001b[49m\u001b[43maddress\u001b[49m\u001b[43m)\u001b[49m\n\u001b[0;32m    552\u001b[0m \u001b[38;5;28;01mif\u001b[39;00m address \u001b[38;5;129;01mnot\u001b[39;00m \u001b[38;5;129;01min\u001b[39;00m \u001b[38;5;28mself\u001b[39m\u001b[38;5;241m.\u001b[39m_slaves:\n",
      "File \u001b[1;32mC:\\Program Files\\Python312\\Lib\\site-packages\\pyftdi\\i2c.py:595\u001b[0m, in \u001b[0;36mI2cController.validate_address\u001b[1;34m(cls, address)\u001b[0m\n\u001b[0;32m    594\u001b[0m \u001b[38;5;28;01mif\u001b[39;00m address \u001b[38;5;241m>\u001b[39m \u001b[38;5;28mcls\u001b[39m\u001b[38;5;241m.\u001b[39mHIGHEST_I2C_ADDRESS:\n\u001b[1;32m--> 595\u001b[0m     \u001b[38;5;28;01mraise\u001b[39;00m I2cIOError(\u001b[38;5;124mf\u001b[39m\u001b[38;5;124m'\u001b[39m\u001b[38;5;124mNo such I2c slave: 0x\u001b[39m\u001b[38;5;132;01m{\u001b[39;00maddress\u001b[38;5;132;01m:\u001b[39;00m\u001b[38;5;124m02x\u001b[39m\u001b[38;5;132;01m}\u001b[39;00m\u001b[38;5;124m'\u001b[39m)\n",
      "\u001b[1;31mI2cIOError\u001b[0m: No such I2c slave: 0x81",
      "\nDuring handling of the above exception, another exception occurred:\n",
      "\u001b[1;31mI2cIOError\u001b[0m                                Traceback (most recent call last)",
      "File \u001b[1;32mC:\\Program Files\\Python312\\Lib\\site-packages\\adafruit_bus_device\\i2c_device.py:181\u001b[0m, in \u001b[0;36mI2CDevice.__probe_for_device\u001b[1;34m(self)\u001b[0m\n\u001b[0;32m    180\u001b[0m     result \u001b[38;5;241m=\u001b[39m \u001b[38;5;28mbytearray\u001b[39m(\u001b[38;5;241m1\u001b[39m)\n\u001b[1;32m--> 181\u001b[0m     \u001b[38;5;28;43mself\u001b[39;49m\u001b[38;5;241;43m.\u001b[39;49m\u001b[43mi2c\u001b[49m\u001b[38;5;241;43m.\u001b[39;49m\u001b[43mreadfrom_into\u001b[49m\u001b[43m(\u001b[49m\u001b[38;5;28;43mself\u001b[39;49m\u001b[38;5;241;43m.\u001b[39;49m\u001b[43mdevice_address\u001b[49m\u001b[43m,\u001b[49m\u001b[43m \u001b[49m\u001b[43mresult\u001b[49m\u001b[43m)\u001b[49m\n\u001b[0;32m    182\u001b[0m \u001b[38;5;28;01mexcept\u001b[39;00m \u001b[38;5;167;01mOSError\u001b[39;00m:\n\u001b[0;32m    183\u001b[0m     \u001b[38;5;66;03m# pylint: disable=raise-missing-from\u001b[39;00m\n",
      "File \u001b[1;32mC:\\Program Files\\Python312\\Lib\\site-packages\\busio.py:205\u001b[0m, in \u001b[0;36mI2C.readfrom_into\u001b[1;34m(self, address, buffer, start, end)\u001b[0m\n\u001b[0;32m    204\u001b[0m     buffer \u001b[38;5;241m=\u001b[39m \u001b[38;5;28mmemoryview\u001b[39m(buffer)[start:end]\n\u001b[1;32m--> 205\u001b[0m \u001b[38;5;28;01mreturn\u001b[39;00m \u001b[38;5;28;43mself\u001b[39;49m\u001b[38;5;241;43m.\u001b[39;49m\u001b[43m_i2c\u001b[49m\u001b[38;5;241;43m.\u001b[39;49m\u001b[43mreadfrom_into\u001b[49m\u001b[43m(\u001b[49m\u001b[43maddress\u001b[49m\u001b[43m,\u001b[49m\u001b[43m \u001b[49m\u001b[43mbuffer\u001b[49m\u001b[43m,\u001b[49m\u001b[43m \u001b[49m\u001b[43mstop\u001b[49m\u001b[38;5;241;43m=\u001b[39;49m\u001b[38;5;28;43;01mTrue\u001b[39;49;00m\u001b[43m)\u001b[49m\n",
      "File \u001b[1;32mC:\\Program Files\\Python312\\Lib\\site-packages\\adafruit_blinka\\microcontroller\\ftdi_mpsse\\mpsse\\i2c.py:51\u001b[0m, in \u001b[0;36mI2C.readfrom_into\u001b[1;34m(self, address, buffer, start, end, stop)\u001b[0m\n\u001b[0;32m     50\u001b[0m end \u001b[38;5;241m=\u001b[39m end \u001b[38;5;28;01mif\u001b[39;00m end \u001b[38;5;28;01melse\u001b[39;00m \u001b[38;5;28mlen\u001b[39m(buffer)\n\u001b[1;32m---> 51\u001b[0m port \u001b[38;5;241m=\u001b[39m \u001b[38;5;28;43mself\u001b[39;49m\u001b[38;5;241;43m.\u001b[39;49m\u001b[43m_i2c\u001b[49m\u001b[38;5;241;43m.\u001b[39;49m\u001b[43mget_port\u001b[49m\u001b[43m(\u001b[49m\u001b[43maddress\u001b[49m\u001b[43m)\u001b[49m\n\u001b[0;32m     52\u001b[0m result \u001b[38;5;241m=\u001b[39m port\u001b[38;5;241m.\u001b[39mread(\u001b[38;5;28mlen\u001b[39m(buffer[start:end]), relax\u001b[38;5;241m=\u001b[39mstop)\n",
      "File \u001b[1;32mC:\\Program Files\\Python312\\Lib\\site-packages\\pyftdi\\i2c.py:551\u001b[0m, in \u001b[0;36mI2cController.get_port\u001b[1;34m(self, address)\u001b[0m\n\u001b[0;32m    550\u001b[0m     \u001b[38;5;28;01mraise\u001b[39;00m I2cIOError(\u001b[38;5;124m\"\u001b[39m\u001b[38;5;124mFTDI controller not initialized\u001b[39m\u001b[38;5;124m\"\u001b[39m)\n\u001b[1;32m--> 551\u001b[0m \u001b[38;5;28;43mself\u001b[39;49m\u001b[38;5;241;43m.\u001b[39;49m\u001b[43mvalidate_address\u001b[49m\u001b[43m(\u001b[49m\u001b[43maddress\u001b[49m\u001b[43m)\u001b[49m\n\u001b[0;32m    552\u001b[0m \u001b[38;5;28;01mif\u001b[39;00m address \u001b[38;5;129;01mnot\u001b[39;00m \u001b[38;5;129;01min\u001b[39;00m \u001b[38;5;28mself\u001b[39m\u001b[38;5;241m.\u001b[39m_slaves:\n",
      "File \u001b[1;32mC:\\Program Files\\Python312\\Lib\\site-packages\\pyftdi\\i2c.py:595\u001b[0m, in \u001b[0;36mI2cController.validate_address\u001b[1;34m(cls, address)\u001b[0m\n\u001b[0;32m    594\u001b[0m \u001b[38;5;28;01mif\u001b[39;00m address \u001b[38;5;241m>\u001b[39m \u001b[38;5;28mcls\u001b[39m\u001b[38;5;241m.\u001b[39mHIGHEST_I2C_ADDRESS:\n\u001b[1;32m--> 595\u001b[0m     \u001b[38;5;28;01mraise\u001b[39;00m I2cIOError(\u001b[38;5;124mf\u001b[39m\u001b[38;5;124m'\u001b[39m\u001b[38;5;124mNo such I2c slave: 0x\u001b[39m\u001b[38;5;132;01m{\u001b[39;00maddress\u001b[38;5;132;01m:\u001b[39;00m\u001b[38;5;124m02x\u001b[39m\u001b[38;5;132;01m}\u001b[39;00m\u001b[38;5;124m'\u001b[39m)\n",
      "\u001b[1;31mI2cIOError\u001b[0m: No such I2c slave: 0x81",
      "\nDuring handling of the above exception, another exception occurred:\n",
      "\u001b[1;31mValueError\u001b[0m                                Traceback (most recent call last)",
      "Cell \u001b[1;32mIn[29], line 6\u001b[0m\n\u001b[0;32m      4\u001b[0m i2c \u001b[38;5;241m=\u001b[39m busio\u001b[38;5;241m.\u001b[39mI2C(board\u001b[38;5;241m.\u001b[39mSCL, board\u001b[38;5;241m.\u001b[39mSDA,  frequency \u001b[38;5;241m=\u001b[39m \u001b[38;5;241m20000\u001b[39m)\n\u001b[0;32m      5\u001b[0m \u001b[38;5;28;01mfrom\u001b[39;00m \u001b[38;5;21;01madafruit_bus_device\u001b[39;00m\u001b[38;5;21;01m.\u001b[39;00m\u001b[38;5;21;01mi2c_device\u001b[39;00m \u001b[38;5;28;01mimport\u001b[39;00m I2CDevice\n\u001b[1;32m----> 6\u001b[0m device \u001b[38;5;241m=\u001b[39m \u001b[43mI2CDevice\u001b[49m\u001b[43m(\u001b[49m\u001b[43mi2c\u001b[49m\u001b[43m,\u001b[49m\u001b[43m \u001b[49m\u001b[38;5;241;43m0x81\u001b[39;49m\u001b[43m)\u001b[49m\n\u001b[0;32m      7\u001b[0m \u001b[38;5;28;01mwith\u001b[39;00m device:\n\u001b[0;32m      8\u001b[0m     device\u001b[38;5;241m.\u001b[39mwrite(\u001b[38;5;28mbytes\u001b[39m([\u001b[38;5;241m0x00\u001b[39m]))\n",
      "File \u001b[1;32mC:\\Program Files\\Python312\\Lib\\site-packages\\adafruit_bus_device\\i2c_device.py:62\u001b[0m, in \u001b[0;36mI2CDevice.__init__\u001b[1;34m(self, i2c, device_address, probe)\u001b[0m\n\u001b[0;32m     59\u001b[0m \u001b[38;5;28mself\u001b[39m\u001b[38;5;241m.\u001b[39mdevice_address \u001b[38;5;241m=\u001b[39m device_address\n\u001b[0;32m     61\u001b[0m \u001b[38;5;28;01mif\u001b[39;00m probe:\n\u001b[1;32m---> 62\u001b[0m     \u001b[38;5;28;43mself\u001b[39;49m\u001b[38;5;241;43m.\u001b[39;49m\u001b[43m__probe_for_device\u001b[49m\u001b[43m(\u001b[49m\u001b[43m)\u001b[49m\n",
      "File \u001b[1;32mC:\\Program Files\\Python312\\Lib\\site-packages\\adafruit_bus_device\\i2c_device.py:184\u001b[0m, in \u001b[0;36mI2CDevice.__probe_for_device\u001b[1;34m(self)\u001b[0m\n\u001b[0;32m    181\u001b[0m         \u001b[38;5;28mself\u001b[39m\u001b[38;5;241m.\u001b[39mi2c\u001b[38;5;241m.\u001b[39mreadfrom_into(\u001b[38;5;28mself\u001b[39m\u001b[38;5;241m.\u001b[39mdevice_address, result)\n\u001b[0;32m    182\u001b[0m     \u001b[38;5;28;01mexcept\u001b[39;00m \u001b[38;5;167;01mOSError\u001b[39;00m:\n\u001b[0;32m    183\u001b[0m         \u001b[38;5;66;03m# pylint: disable=raise-missing-from\u001b[39;00m\n\u001b[1;32m--> 184\u001b[0m         \u001b[38;5;28;01mraise\u001b[39;00m \u001b[38;5;167;01mValueError\u001b[39;00m(\u001b[38;5;124m\"\u001b[39m\u001b[38;5;124mNo I2C device at address: 0x\u001b[39m\u001b[38;5;132;01m%x\u001b[39;00m\u001b[38;5;124m\"\u001b[39m \u001b[38;5;241m%\u001b[39m \u001b[38;5;28mself\u001b[39m\u001b[38;5;241m.\u001b[39mdevice_address)\n\u001b[0;32m    185\u001b[0m         \u001b[38;5;66;03m# pylint: enable=raise-missing-from\u001b[39;00m\n\u001b[0;32m    186\u001b[0m \u001b[38;5;28;01mfinally\u001b[39;00m:\n\u001b[0;32m    187\u001b[0m     \u001b[38;5;28mself\u001b[39m\u001b[38;5;241m.\u001b[39mi2c\u001b[38;5;241m.\u001b[39munlock()\n",
      "\u001b[1;31mValueError\u001b[0m: No I2C device at address: 0x81"
     ]
    }
   ],
   "source": [
    "#DS1302\n",
    "import board\n",
    "import busio\n",
    "i2c = busio.I2C(board.SCL, board.SDA,  frequency = 20000)\n",
    "from adafruit_bus_device.i2c_device import I2CDevice\n",
    "device = I2CDevice(i2c, 0x81)\n",
    "with device:\n",
    "    device.write(bytes([0x00]))\n",
    "    result = bytearray(7)\n",
    "    device.readinto(result)\n",
    "    #i2c.readfrom_into(0x42, result)\n",
    "    print(hex(result[0]))\n",
    "    print(result)\n",
    "\n"
   ]
  },
  {
   "cell_type": "code",
   "execution_count": null,
   "id": "f5cd45ff-6158-4b91-b07b-0ce2350ff734",
   "metadata": {},
   "outputs": [],
   "source": []
  }
 ],
 "metadata": {
  "kernelspec": {
   "display_name": "Python 3 (ipykernel)",
   "language": "python",
   "name": "python3"
  },
  "language_info": {
   "codemirror_mode": {
    "name": "ipython",
    "version": 3
   },
   "file_extension": ".py",
   "mimetype": "text/x-python",
   "name": "python",
   "nbconvert_exporter": "python",
   "pygments_lexer": "ipython3",
   "version": "3.12.3"
  }
 },
 "nbformat": 4,
 "nbformat_minor": 5
}
