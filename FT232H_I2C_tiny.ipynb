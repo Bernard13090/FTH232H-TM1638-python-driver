{
 "cells": [
  {
   "cell_type": "code",
   "execution_count": null,
   "id": "f5e563ac-83d7-422e-a403-892ee898c831",
   "metadata": {},
   "outputs": [],
   "source": [
    "import board\n",
    "import busio\n",
    "i2c = busio.I2C(board.SCL, board.SDA) #,  frequency = 100000)\n",
    "from adafruit_bus_device.i2c_device import I2CDevice\n",
    "device = I2CDevice(i2c, 0x50)\n",
    "with device:\n",
    "    device.write(b'\\x00\\x00') #bytes([0x00]))\n",
    "    result = bytearray(7)\n",
    "    device.readinto(result)\n",
    "    #i2c.readfrom_into(0x42, result)\n",
    "    byte_string = result\n",
    "    \n",
    "    print ('[{}]'.format(', '.join(hex(x) for x in result)))\n",
    "    \n",
    "#hex(i2c.scan()[0])"
   ]
  },
  {
   "cell_type": "code",
   "execution_count": 4,
   "id": "182f93b0-ea70-41f1-8659-87827eb129cc",
   "metadata": {},
   "outputs": [
    {
     "data": {
      "text/plain": [
       "[32]"
      ]
     },
     "execution_count": 4,
     "metadata": {},
     "output_type": "execute_result"
    }
   ],
   "source": [
    "import board\n",
    "import busio\n",
    "i2c = busio.I2C(board.SCL, board.SDA,  frequency = 50000)\n",
    "i2c.scan()"
   ]
  },
  {
   "cell_type": "code",
   "execution_count": null,
   "id": "197d3b83-a381-4e64-8625-e59f15e429da",
   "metadata": {},
   "outputs": [],
   "source": [
    "from pyftdi.ftdi import Ftdi\n",
    "Ftdi.show_devices()"
   ]
  },
  {
   "cell_type": "code",
   "execution_count": 1,
   "id": "74cf1f47-093a-4dc1-8c39-33466b6d67a3",
   "metadata": {},
   "outputs": [
    {
     "name": "stdout",
     "output_type": "stream",
     "text": [
      "['C0', 'C1', 'C2', 'C3', 'C4', 'C5', 'C6', 'C7', 'D4', 'D5', 'D6', 'D7', 'I2C', 'MISO', 'MOSI', 'SCK', 'SCL', 'SCLK', 'SDA', 'SPI', '__blinka__', '__builtins__', '__cached__', '__doc__', '__file__', '__loader__', '__name__', '__package__', '__repo__', '__spec__', '__version__', 'ap_board', 'board_id', 'detector', 'pin', 'sys']\n"
     ]
    }
   ],
   "source": [
    "import board\n",
    "print(dir(board))\n"
   ]
  },
  {
   "cell_type": "code",
   "execution_count": 2,
   "id": "dd38b1eb-06d8-467a-b9db-e837fec17712",
   "metadata": {},
   "outputs": [
    {
     "name": "stdout",
     "output_type": "stream",
     "text": [
      "1\n"
     ]
    }
   ],
   "source": [
    "import os\n",
    "print(os.environ[\"BLINKA_FT232H\"])"
   ]
  },
  {
   "cell_type": "code",
   "execution_count": null,
   "id": "c8302e4e-da48-49a5-9e3f-78e2de9900a7",
   "metadata": {},
   "outputs": [],
   "source": [
    "import board\n",
    "import busio\n",
    "i2c = busio.I2C(board.SCL, board.SDA,  frequency = 50000)\n",
    "while True :\n",
    "    a_list = i2c.scan()\n",
    "    print ('[{}]'.format(', '.join(hex(x) for x in a_list)))"
   ]
  },
  {
   "cell_type": "code",
   "execution_count": null,
   "id": "d3134ec5-c101-41de-bffd-4eb8133ff0dc",
   "metadata": {},
   "outputs": [],
   "source": [
    "#qui marche\n",
    "import time\n",
    "import board\n",
    "import busio\n",
    "i2c = busio.I2C(board.SCL, board.SDA)\n",
    "\n",
    "while not i2c.try_lock():\n",
    "    pass\n",
    "try:\n",
    "    temph = bytearray(1)\n",
    "    templ = bytearray(1)\n",
    "    result1 = bytearray(1)\n",
    "    result2 = bytearray(1)\n",
    "    i2c.writeto(0x68,b'\\x6B\\x00')    # Send instruction to start sensing\n",
    "    time.sleep(0.05)                 # Small wait to give sensor time\n",
    "    i2c.writeto(0x68,b'\\x23\\x40')    # Send instruction to start sensing\n",
    "    time.sleep(0.05)                 # Small wait to give sensor time\n",
    "    #i2c.writeto(0x68, bytes([0x6B]))\n",
    "    #i2c.writeto(0x68, bytes([0x0F]))\n",
    "    #result = bytearray(2)\n",
    "    i2c.writeto(0x68,b'\\x6B')\n",
    "    i2c.readfrom_into(0x68, result1)\n",
    "    i2c.writeto(0x68,b'\\x23')\n",
    "    i2c.readfrom_into(0x68, result2)\n",
    "    i2c.writeto(0x68,b'\\x41')\n",
    "    i2c.readfrom_into(0x68, temph)\n",
    "    i2c.writeto(0x68,b'\\x42')\n",
    "    i2c.readfrom_into(0x68, templ)\n",
    "finally:\n",
    "    i2c.unlock()\n",
    "#print ('[{}]'.format(', '.join(bin(x) for x in result1)))\n",
    "#print ('[{}]'.format(', '.join(bin(x) for x in result2)))\n",
    "print ('[{}]'.format(', '.join(bin(x) for x in temph)))\n",
    "print ('[{}]'.format(', '.join(bin(x) for x in templ)))\n",
    "\n",
    "\n",
    "temph_bin = int.from_bytes(temph, byteorder='big')\n",
    "templ_bin = int.from_bytes(templ, byteorder='big')\n",
    "\n",
    "temperature = (temph_bin << 8) | templ_bin\n",
    "print(temperature)\n",
    "\n",
    "if (temperature >= 0x8000):\n",
    "    print((0xFFFF - temperature))\n",
    "    temperature = -((0xFFFF - temperature) + 1)\n",
    "else:\n",
    "    temperature = temperature\n",
    "\n",
    "C = temperature/340.0 + 36.53\n",
    "print (C)"
   ]
  },
  {
   "cell_type": "code",
   "execution_count": null,
   "id": "bc69cd3d-38a7-41f2-a3f4-b03abc2d84c0",
   "metadata": {},
   "outputs": [],
   "source": [
    "#Qui marche\n",
    "import time\n",
    "import board\n",
    "import busio\n",
    "i2c = busio.I2C(board.SCL, board.SDA)\n",
    "\n",
    "while not i2c.try_lock():\n",
    "    pass\n",
    "try:\n",
    "    result = bytearray(16)\n",
    "    i2c.writeto(0x50,b'\\x00\\x01\\x56\\x57\\x5B')    # Send instruction to start sensing\n",
    "    time.sleep(0.001)                 # Small wait to give sensor time\n",
    "\n",
    "    i2c.writeto(0x50,b'\\x00\\x00')\n",
    "    #time.sleep(0.002) \n",
    "    i2c.readfrom_into(0x50, result)\n",
    "finally:\n",
    "    i2c.unlock()\n",
    "print ('[{}]'.format(', '.join(hex(x) for x in result)))"
   ]
  },
  {
   "cell_type": "code",
   "execution_count": null,
   "id": "7f73c304-0a7d-4b41-b4a4-5087adf73434",
   "metadata": {},
   "outputs": [],
   "source": [
    "# SPDX-FileCopyrightText: 2021 ladyada for Adafruit Industries\n",
    "# SPDX-License-Identifier: MIT\n",
    "\n",
    "from board import SCL, SDA\n",
    "from busio import I2C\n",
    "from adafruit_bus_device.i2c_device import I2CDevice\n",
    "from adafruit_register.i2c_struct import UnaryStruct\n",
    "\n",
    "DEVICE_ADDRESS = 0x68  # device address of PCA9685 board\n",
    "A_DEVICE_REGISTER_1 = 0x6B  # Configuration register\n",
    "\n",
    "class DeviceControl:  # pylint: disable-msg=too-few-public-methods\n",
    "    def __init__(self, i2c):\n",
    "        self.i2c_device = i2c  # self.i2c_device required by UnaryStruct class\n",
    "\n",
    "    register1 = UnaryStruct(A_DEVICE_REGISTER_1, \"<B\")  # 8-bit number\n",
    "\n",
    "\n",
    "\n",
    "# The follow is for I2C communications\n",
    "comm_port = I2C(SCL, SDA)\n",
    "device = I2CDevice(comm_port, DEVICE_ADDRESS)\n",
    "registers = DeviceControl(device)\n",
    "\n",
    "# set the bits in the device\n",
    "registers.register1 = 0xFF\n",
    "\n",
    "# display the device values for the bits\n",
    "print(\"register 1: {:02X}\".format(registers.register1))\n",
    "\n",
    "# toggle the bits\n",
    "registers.register1 = 0b01111111\n",
    "\n",
    "# display the device values for the bits\n",
    "print(\"register 1: {:02X}\".format(registers.register1))"
   ]
  },
  {
   "cell_type": "code",
   "execution_count": null,
   "id": "49d756ee-3528-4fdb-930c-2b633fae85c4",
   "metadata": {},
   "outputs": [],
   "source": [
    "print(\"register 1: {:02X}\".format(registers.register1))"
   ]
  },
  {
   "cell_type": "code",
   "execution_count": null,
   "id": "e3019c37-28e1-4cf6-920b-3ed8ceb3df19",
   "metadata": {},
   "outputs": [],
   "source": [
    "import board\n",
    "import busio\n",
    " \n",
    "REGISTERS = (0, 0x76)  # Range of registers to read, from the first up to (but\n",
    "                      # not including!) the second value.\n",
    " \n",
    "REGISTER_SIZE = 1     # Number of bytes to read from each register.\n",
    " \n",
    "# Initialize and lock the I2C bus.\n",
    "i2c = busio.I2C(board.SCL, board.SDA)\n",
    "while not i2c.try_lock():\n",
    "    pass\n",
    " \n",
    "# Find the first I2C device available.\n",
    "devices = i2c.scan()\n",
    "while len(devices) < 1:\n",
    "    devices = i2c.scan()\n",
    "device = devices[0]\n",
    "print('Found device with address: {}'.format(hex(device)))\n",
    " \n",
    "# Scan all the registers and read their byte values.\n",
    "result = bytearray(REGISTER_SIZE)\n",
    "for register in range(*REGISTERS):\n",
    "    try:\n",
    "        i2c.writeto(device, bytes([register]))\n",
    "        i2c.readfrom_into(device, result)\n",
    "    except OSError:\n",
    "        continue  # Ignore registers that don't exist!\n",
    "    print('Address {0}: {1}'.format(hex(register), ' '.join([hex(x) for x in result])))\n",
    " \n",
    "# Unlock the I2C bus when finished.  Ideally put this in a try-finally!\n",
    "i2c.unlock()"
   ]
  },
  {
   "cell_type": "code",
   "execution_count": null,
   "id": "368ea935-a846-42e6-a0c7-a14719c8eda9",
   "metadata": {},
   "outputs": [],
   "source": [
    "# SPDX-FileCopyrightText: 2021 ladyada for Adafruit Industries\n",
    "# SPDX-License-Identifier: MIT\n",
    "\n",
    "import time\n",
    "import board\n",
    "import busio\n",
    "import adafruit_mpu6050\n",
    "\n",
    "i2c = busio.I2C(board.SCL, board.SDA)\n",
    "mpu = adafruit_mpu6050.MPU6050(i2c)\n",
    "\n",
    "while True:\n",
    "    print(\"Acceleration: X:%.2f, Y: %.2f, Z: %.2f m/s^2\" % (mpu.acceleration))\n",
    "    print(\"Gyro X:%.2f, Y: %.2f, Z: %.2f degrees/s\" % (mpu.gyro))\n",
    "    print(\"Temperature: %.2f C\" % mpu.temperature)\n",
    "    print(\"\")\n",
    "    time.sleep(1)\n"
   ]
  },
  {
   "cell_type": "code",
   "execution_count": null,
   "id": "ef9c5fdc-f66c-4969-8b1c-3689771da1cf",
   "metadata": {},
   "outputs": [],
   "source": [
    "#DS1302\n",
    "import time\n",
    "import board\n",
    "import busio\n",
    "i2c = busio.I2C(board.SCL, board.SDA,  frequency = 1000000)\n",
    "from adafruit_bus_device.i2c_device import I2CDevice\n",
    "device = I2CDevice(i2c, 0x51)\n",
    "with device :\n",
    "    device.write(bytes([0x005]))\n",
    "    #device.write(bytes([0x0]))\n",
    "    #device.write(bytes([0x5]))\n",
    "    result = bytearray(1)\n",
    "    device.readinto(result)\n",
    "    #print(result)\n",
    "    print ('[{}]'.format(', '.join(hex(x) for x in result)))\n",
    "    time.sleep(0.1)\n",
    "    #device.write(bytes([0x00]))"
   ]
  },
  {
   "cell_type": "code",
   "execution_count": null,
   "id": "a7ebe99d-affd-4931-b4d4-9dfdcebadefb",
   "metadata": {},
   "outputs": [],
   "source": [
    "from adafruit_blinka.microcontroller.ftdi_mpsse.mpsse.i2c import I2C as _I2C\n",
    "from adafruit_blinka.agnostic import board_id, detector\n",
    "import adafruit_platformdetect.constants.boards as ap_board\n",
    "import adafruit_platformdetect.constants.chips as ap_chip\n",
    "from adafruit_blinka import Enum, Lockable, agnostic\n",
    "from adafruit_blinka.agnostic import board_id, detector\n",
    "detector.board.ftdi_ft232h\n",
    "from adafruit_blinka.microcontroller.ftdi_mpsse.ft232h import pin\n",
    "#from microcontroller.pin import i2cPorts\n",
    "#_i2c.scan()\n",
    "pin.SDA"
   ]
  },
  {
   "cell_type": "code",
   "execution_count": null,
   "id": "13c4591c-5fac-4d63-9918-727ffd9b0aed",
   "metadata": {},
   "outputs": [],
   "source": [
    "with device :\n",
    "    device.write(bytes([0x00]))\n",
    "    #device.write(bytes([0x00]))\n",
    "    #device.write(bytes([0x05]))\n",
    "    result = bytearray(1)\n",
    "    device.readinto(result)\n",
    "    #i2c.readfrom_into(0x42, result)\n",
    "    #print(hex(result[0]))\n",
    "    print(result)\n",
    "    print ('[{}]'.format(', '.join(hex(x) for x in result)))"
   ]
  },
  {
   "cell_type": "code",
   "execution_count": null,
   "id": "c142eadd-dc37-4294-b6a0-44471bde2d68",
   "metadata": {},
   "outputs": [],
   "source": [
    "device.readinto(result)\n",
    "#i2c.readfrom_into(0x42, result)\n",
    "#print(hex(result[0]))\n",
    "print(result)\n",
    "print ('[{}]'.format(', '.join(hex(x) for x in result)))"
   ]
  },
  {
   "cell_type": "code",
   "execution_count": null,
   "id": "f5cd45ff-6158-4b91-b07b-0ce2350ff734",
   "metadata": {},
   "outputs": [],
   "source": [
    "# SPDX-FileCopyrightText: Copyright (c) 2021 Tim Cocks for Adafruit Industries\n",
    "#\n",
    "# SPDX-License-Identifier: Unlicense\n",
    "\n",
    "import board\n",
    "import adafruit_24lc32 #NACK from slave\n",
    "\n",
    "i2c = board.I2C()  # uses board.SCL and board.SDA\n",
    "# i2c = board.STEMMA_I2C()  # For using the built-in STEMMA QT connector on a microcontroller\n",
    "eeprom = adafruit_24lc32.EEPROM_I2C(i2c)\n",
    "\n",
    "print(\"length: {}\".format(len(eeprom)))\n",
    "\n",
    "# eeprom[0] = 4\n",
    "# print(eeprom[0])\n",
    "\n",
    "# eeprom[0:4] = [9, 3, 8, 1]\n",
    "# print(eeprom[0:4])"
   ]
  },
  {
   "cell_type": "code",
   "execution_count": null,
   "id": "31afc9d1-b322-481c-a204-66827f0bb4bf",
   "metadata": {},
   "outputs": [],
   "source": [
    "eeprom[0] = 4\n",
    "print(eeprom[0])\n",
    "\n"
   ]
  },
  {
   "cell_type": "code",
   "execution_count": null,
   "id": "499ddcb7-6bc0-4955-b4c4-a431745c928e",
   "metadata": {},
   "outputs": [],
   "source": [
    "print(eeprom[0])"
   ]
  },
  {
   "cell_type": "code",
   "execution_count": null,
   "id": "bff1d072-68e7-4e0e-9d44-ed80584de645",
   "metadata": {},
   "outputs": [],
   "source": [
    "print(\"length: {}\".format(len(eeprom)))"
   ]
  },
  {
   "cell_type": "code",
   "execution_count": null,
   "id": "6ba86128-b12d-45cf-8dd3-ba79fb05f979",
   "metadata": {},
   "outputs": [],
   "source": [
    "# SPDX-FileCopyrightText: 2021 Kattni Rembor for Adafruit Industries\n",
    "# SPDX-License-Identifier: MIT\n",
    "\"\"\"CircuitPython I2C Device Address Scan\"\"\"\n",
    "import time\n",
    "import board\n",
    "\n",
    "i2c = board.I2C()  # uses board.SCL and board.SDA\n",
    "# i2c = board.STEMMA_I2C()  # For using the built-in STEMMA QT connector on a microcontroller\n",
    "\n",
    "# To create I2C bus on specific pins\n",
    "# import busio\n",
    "# i2c = busio.I2C(board.GP1, board.GP0)    # Pi Pico RP2040\n",
    "\n",
    "while not i2c.try_lock():\n",
    "    pass\n",
    "\n",
    "try:\n",
    "    while True:\n",
    "        print(\n",
    "            \"I2C addresses found:\",\n",
    "            [hex(device_address) for device_address in i2c.scan()],\n",
    "        )\n",
    "        time.sleep(2)\n",
    "\n",
    "finally:  # unlock the i2c bus when ctrl-c'ing out of the loop\n",
    "    i2c.unlock()"
   ]
  },
  {
   "cell_type": "code",
   "execution_count": null,
   "id": "893950a8-c99c-494e-b805-84a38eeb71ba",
   "metadata": {},
   "outputs": [],
   "source": []
  }
 ],
 "metadata": {
  "kernelspec": {
   "display_name": "Python 3 (ipykernel)",
   "language": "python",
   "name": "python3"
  },
  "language_info": {
   "codemirror_mode": {
    "name": "ipython",
    "version": 3
   },
   "file_extension": ".py",
   "mimetype": "text/x-python",
   "name": "python",
   "nbconvert_exporter": "python",
   "pygments_lexer": "ipython3",
   "version": "3.12.3"
  }
 },
 "nbformat": 4,
 "nbformat_minor": 5
}
